{
 "cells": [
  {
   "cell_type": "code",
   "execution_count": 1,
   "id": "1b92aca6",
   "metadata": {},
   "outputs": [],
   "source": [
    "from mtcnn import MTCNN\n",
    "from tensorflow.keras.models import load_model\n",
    "from tensorflow.keras.utils import img_to_array\n",
    "import numpy as np\n",
    "import cv2 as cv"
   ]
  },
  {
   "cell_type": "code",
   "execution_count": 8,
   "id": "607da0cd",
   "metadata": {},
   "outputs": [],
   "source": [
    "model = load_model('detector_model.h5')\n",
    "\n",
    "detector_obj= MTCNN()\n",
    "\n",
    "classes = ['Not Smile' , 'Smile']"
   ]
  },
  {
   "cell_type": "code",
   "execution_count": 28,
   "id": "ebe04f41",
   "metadata": {},
   "outputs": [
    {
     "name": "stdout",
     "output_type": "stream",
     "text": [
      "1/1 [==============================] - 0s 33ms/step\n",
      "1/1 [==============================] - 0s 31ms/step\n",
      "1/1 [==============================] - 0s 28ms/step\n",
      "1/1 [==============================] - 0s 28ms/step\n",
      "1/1 [==============================] - 0s 27ms/step\n",
      "1/1 [==============================] - 0s 27ms/step\n",
      "1/1 [==============================] - 0s 26ms/step\n",
      "1/1 [==============================] - 0s 32ms/step\n",
      "1/1 [==============================] - 0s 32ms/step\n",
      "1/1 [==============================] - 0s 27ms/step\n"
     ]
    }
   ],
   "source": [
    "def face_detect(img):\n",
    "    rgb_img = cv.cvtColor(img , cv.COLOR_BGR2RGB)\n",
    "\n",
    "    face = detector_obj.detect_faces(rgb_img)[0]\n",
    "    x , y , w , h = face['box']\n",
    "\n",
    "    return rgb_img[y:y+h , x:x+w] , x , y , w , h# This crop only section of image that contain person Face\n",
    "\n",
    "def preprocess(face):\n",
    "    norm_face = cv.resize(face , (32,32))\n",
    "    norm_face = norm_face/255.0\n",
    "    return np.array([norm_face])\n",
    "\n",
    "img = cv.imread('malihe2.jpg')\n",
    "\n",
    "face , x , y , w , h= face_detect(img)\n",
    "normalized_face = preprocess(face)\n",
    "\n",
    "out = model.predict(normalized_face)[0]\n",
    "max_index = np.argmax(out)\n",
    "prob = out[max_index]\n",
    "\n",
    "text = f\"{classes[max_index]} : {prob:0.2f}\"\n",
    "\n",
    "if (max_index==0):\n",
    "    cv.putText(img , text , (x , y - 10)  , cv.FONT_HERSHEY_PLAIN,  1.5 , (0,0,255) , 2 )\n",
    "    cv.rectangle(img , (x, y ) , (x+ w , y+ h) , (0,0,255) , 2)\n",
    "else:\n",
    "    cv.putText(img , text , (x , y - 10)  , cv.FONT_HERSHEY_PLAIN,  1.5 , (0,255,0) , 2 )\n",
    "    cv.rectangle(img , (x, y ) , (x+ w , y+ h) , (0,255,0) , 2)\n",
    "\n",
    "cv.imshow('MyWin',img)\n",
    "cv.waitKey(0)\n",
    "cv.destroyAllWindows()"
   ]
  }
 ],
 "metadata": {
  "kernelspec": {
   "display_name": "Python 3 (ipykernel)",
   "language": "python",
   "name": "python3"
  },
  "language_info": {
   "codemirror_mode": {
    "name": "ipython",
    "version": 3
   },
   "file_extension": ".py",
   "mimetype": "text/x-python",
   "name": "python",
   "nbconvert_exporter": "python",
   "pygments_lexer": "ipython3",
   "version": "3.10.7"
  }
 },
 "nbformat": 4,
 "nbformat_minor": 5
}
